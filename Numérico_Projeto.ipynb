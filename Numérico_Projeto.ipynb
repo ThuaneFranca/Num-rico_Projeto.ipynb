{
  "nbformat": 4,
  "nbformat_minor": 0,
  "metadata": {
    "colab": {
      "name": "Numérico_Projeto.ipynb",
      "provenance": [],
      "collapsed_sections": [],
      "include_colab_link": true
    },
    "kernelspec": {
      "name": "python3",
      "display_name": "Python 3"
    }
  },
  "cells": [
    {
      "cell_type": "markdown",
      "metadata": {
        "id": "view-in-github",
        "colab_type": "text"
      },
      "source": [
        "<a href=\"https://colab.research.google.com/github/ThuaneFranca/Numerico_Projeto.ipynb/blob/master/Num%C3%A9rico_Projeto.ipynb\" target=\"_parent\"><img src=\"https://colab.research.google.com/assets/colab-badge.svg\" alt=\"Open In Colab\"/></a>"
      ]
    },
    {
      "cell_type": "markdown",
      "metadata": {
        "id": "Ke-BaJpwawiS",
        "colab_type": "text"
      },
      "source": [
        "\n"
      ]
    },
    {
      "cell_type": "code",
      "metadata": {
        "id": "VU46L7bLbXjJ",
        "colab_type": "code",
        "outputId": "dbf6204e-aba7-452d-f034-7661d5766e96",
        "colab": {
          "base_uri": "https://localhost:8080/",
          "height": 265
        }
      },
      "source": [
        "from matplotlib import pyplot as plt #biblioteca para plotar gráficos\n",
        "\n",
        "# PROBLEMA 1 (3)\n",
        "\n",
        "# para a resolução deste problema, declaramos os valores especificados \n",
        "\n",
        "Q = 20.0\n",
        "g = 9.81\n",
        "\n",
        "# e montamos as suas respectivas funções.\n",
        "def A(y): return (3.0 * y) + ((y ** 2)/2.0)\n",
        "def B(y): return 3.0 + y\n",
        "\n",
        "def f(y): return 1 - ( (( Q ** 2.0 ) / (g * A(y) ** 3.0)) * B(y))\n",
        "\n",
        "# A determinar a profundidade crítica gráficamente\n",
        "\n",
        "# escolhemos um intervalo onde a função possívelmente passa por zero\n",
        "# e criamos alguns pontos de dados [1,5], para que seja possível plotar \n",
        "pontos = 100\n",
        "\n",
        "\n",
        "a, b = 1, 5\n",
        "incremento = (abs(a)+abs(b)) / pontos\n",
        "\n",
        "valores, posicoes = [], []\n",
        "n = 1\n",
        "i = 0\n",
        "while i < pontos:\n",
        "  posicoes.append(n)\n",
        "  valores.append(f(n))\n",
        "  n += incremento\n",
        "  i += 1\n",
        "\n",
        "plt.axhline(y=0, ls='--', color='r')\n",
        "plt.plot(posicoes,valores, color='b') #bisseccao\n",
        "plt.show()"
      ],
      "execution_count": 0,
      "outputs": [
        {
          "output_type": "display_data",
          "data": {
            "image/png": "[encoded data removed]",
            "text/plain": [
              "<Figure size 432x288 with 1 Axes>"
            ]
          },
          "metadata": {
            "tags": []
          }
        }
      ]
    },
    {
      "cell_type": "code",
      "metadata": {
        "id": "e589mb8QCczN",
        "colab_type": "code",
        "cellView": "both",
        "colab": {}
      },
      "source": [
        "# para resolução da B e C, implementamos os métodos da falsa posição e bissecção\n",
        "def bisseccao(f, intervalo=[0,1], erro=0.001):\n",
        "    \n",
        "  a = intervalo[0]\n",
        "  b = intervalo[1]\n",
        "  \n",
        "  m = 0.0\n",
        "  it = 0\n",
        "\n",
        "  while (abs(b-a) > erro) and (it < 100):\n",
        "    it += 1\n",
        "  \n",
        "    m = (a + b) / 2\n",
        "        \n",
        "    if f(m) == 0: \n",
        "      print(f\"bissecção - resultado exato para m = {m} em {it} iterações com presição de {erro}\")\n",
        "      return m\n",
        "    \n",
        "    elif f(m)*f(a) < 0:\n",
        "      b = m\n",
        "    else: \n",
        "      a = m\n",
        "  else:\n",
        "    print(f\"bissecção - resultado final: {m} em {it} iterações com precisão de {erro}\")  \n",
        "    return m\n",
        "  \n",
        "def falsa_posicao(f, intervalo=[0,1], erro=0.001):\n",
        "  \n",
        "  x0 = intervalo[0]\n",
        "  x1 = intervalo[1]\n",
        "  x2 = x1\n",
        "  it = 0\n",
        "\n",
        "  while (min(abs(x1-x0), abs(x2)) > erro) and (it < 100):\n",
        "    it += 1\n",
        "\n",
        "    x2 = x1 - (f(x1) * (x1 - x0)) / (f(x1) - f(x0))\n",
        "   \n",
        "    if f(x2) == 0:\n",
        "      print(f\"falsa posição: resultado exato para x = {x2} em {it} iterações com precisão de {erro}\");\n",
        "      return x2\n",
        "    elif abs(x2-x1) < erro:\n",
        "      x0 = x2\n",
        "    else:\n",
        "      x1 = x2\n",
        "  else:\n",
        "    print(f\"falsa posição - resultado final: {x2} em {it} iterações com precisao de {erro}\")\n",
        "    return x2\n",
        "    "
      ],
      "execution_count": 0,
      "outputs": []
    },
    {
      "cell_type": "code",
      "metadata": {
        "id": "cI_BxufmDo19",
        "colab_type": "code",
        "outputId": "2c8b6f68-41a8-4a42-cb40-7d2af8f6b3e4",
        "colab": {
          "base_uri": "https://localhost:8080/",
          "height": 52
        }
      },
      "source": [
        "# B -Considerando o intervalo inicial [0.6, 2.6] e a precisão e = 10^−3\n",
        "#usando o método da bisecçao;\n",
        "\n",
        "bisseccao(f, intervalo=[0.6, 2.6], erro=0.001);\n",
        "\n",
        "# C - Considerando o intervalo inicial [0.6, 2.6] e a precisão e = 10^−4 \n",
        "# usando o método da falsa posição.\n",
        "\n",
        "falsa_posicao(f, intervalo=[0.6, 2.6], erro=0.0001);"
      ],
      "execution_count": 0,
      "outputs": [
        {
          "output_type": "stream",
          "text": [
            "bissecção - resultado final: 1.5130859375 em 11 iterações com precisão de 0.001\n",
            "falsa posição - resultado final: 1.5148078259634805 em 66 iterações com precisao de 0.0001\n"
          ],
          "name": "stdout"
        }
      ]
    },
    {
      "cell_type": "code",
      "metadata": {
        "id": "AeVybBULa0B7",
        "colab_type": "code",
        "outputId": "aa838587-5e62-43cc-fbef-45f33d359551",
        "colab": {
          "base_uri": "https://localhost:8080/",
          "height": 51
        }
      },
      "source": [
        "from math import e\n",
        "\n",
        "pu_max = 80000\n",
        "ku = 0.05\n",
        "pu_min = 110000\n",
        "ps_max = 320000\n",
        "p0 = 10000\n",
        "ks = 0.09\n",
        "\n",
        "def pu(t): return pu_max * (e ** (ku * t)) + pu_min\n",
        "\n",
        "def ps(t): return ps_max / (1 + abs((ps_max / p0) - 1) * (e ** (-1 * ks * t)))\n",
        "\n",
        "valores1, posicoes1 = bisseccao(ps, intervalo=[0.45,1], erro=0.001)\n",
        "valores2, posicoes2 = falsa_posicao(pu, intervalo=[0.45,1], erro=0.001)"
      ],
      "execution_count": 0,
      "outputs": [
        {
          "output_type": "stream",
          "text": [
            "bissecção - resultado final: 0.999462890625 em 10 iterações\n",
            "método falsa posição - resultado final: -2.2116361481204493e+38 em 100 iterações\n"
          ],
          "name": "stdout"
        }
      ]
    },
    {
      "cell_type": "code",
      "metadata": {
        "id": "FHNQGasADo5D",
        "colab_type": "code",
        "colab": {}
      },
      "source": [
        "# QUESTÃO 4\n",
        "\n",
        "# IMPLEMENTANDO-SE O MÉTODO DE NEWTON\n",
        "def newton(f, df, x0, erro=0.001):\n",
        "\n",
        "    it = 0\n",
        "    x = x0\n",
        "    while (abs(f(x)) > erro and it <= 50):\n",
        "        x -= f(x)/df(x)\n",
        "        it += 1      \n",
        "    \n",
        "    print(f\"resultado {x} em {it} iterações com precisão de {erro}\")\n",
        "\n",
        "    \n",
        "# e o método das secantes\n",
        "def secantes(f, intervalo, erro):\n",
        "    x0 = intervalo[0]\n",
        "    x1 = intervalo[1]\n",
        "    f0 = f(x0)\n",
        "    \n",
        "    for i in range(1,50):\n",
        "      f1= f(x1)\n",
        "      x2= x1-(x1-x0)*f1/(f1-f0);\n",
        "\n",
        "      if abs(x2-x1) < erro or f(x2) == 0.0:\n",
        "        print(f\"secante - resultado {x0} com {i} iterações e precisão de {erro}\")\n",
        "        return x2\n",
        "      \n",
        "      x0 = x1\n",
        "      x1 = x2 \n",
        "      f0 = f1"
      ],
      "execution_count": 0,
      "outputs": []
    },
    {
      "cell_type": "code",
      "metadata": {
        "id": "j0gPSL9ANqbc",
        "colab_type": "code",
        "outputId": "9cce4f3b-1220-413d-f027-8e187162bbc2",
        "colab": {
          "base_uri": "https://localhost:8080/",
          "height": 51
        }
      },
      "source": [
        "from math import sin, cos, e\n",
        "\n",
        "def f(x): return (7 * sin(x) * (e ** (x * -1))) - 1\n",
        "#derivamos a f(x)\n",
        "def df(x): return (7 * (e ** (x* -1)) * (cos(x) - sin(x)))\n",
        "#enviamos os valores para o método de newton\n",
        "newton(f,df, -4, erro=0.0001)\n",
        "\n",
        "\n",
        "#A menor raiz positiva de f, usando o m´etodo de Secante, para as aproxima¸c˜oes iniciais x0 = 0 e\n",
        "#x1 = 0.1, e a precis˜ao ǫ = 10−4\n",
        "\n",
        "secantes(f, [0,0.1], erro=0.0001);\n"
      ],
      "execution_count": 0,
      "outputs": [
        {
          "output_type": "stream",
          "text": [
            "resultado -3.1477283471346684 em 5 iterações com precisão de 0.0001\n",
            "secante - resultado 0.16922472001800504 com 4 iterações\n"
          ],
          "name": "stdout"
        }
      ]
    },
    {
      "cell_type": "code",
      "metadata": {
        "id": "U1gVYyv4mKb2",
        "colab_type": "code",
        "outputId": "0d7724bb-43fe-403b-e1fc-a4222f346c30",
        "colab": {
          "base_uri": "https://localhost:8080/",
          "height": 265
        }
      },
      "source": [
        "# escolhemos um intervalo onde a função possívelmente passa por zero\n",
        "# e criamos alguns pontos de dados [1,5], para que seja possível plotar \n",
        "pontos = 100\n",
        "\n",
        "\n",
        "a, b = -7, -0\n",
        "incremento = (abs(a) + abs(b)) / pontos\n",
        "\n",
        "valores, posicoes, derivadas = [], [], []\n",
        "n = a\n",
        "i = 0\n",
        "while i < pontos:\n",
        "  posicoes.append(n)\n",
        "  valores.append(f(n))\n",
        "  derivadas.append(df(n))\n",
        "  n += incremento\n",
        "  i += 1\n",
        "\n",
        "plt.axhline(y=0, ls='--', color='r')\n",
        "plt.plot(posicoes,valores, color='b', label='função')\n",
        "plt.plot(posicoes,derivadas, color='g', label='derivada')\n",
        "plt.legend()\n",
        "plt.show()"
      ],
      "execution_count": 0,
      "outputs": [
        {
          "output_type": "display_data",
          "data": {
            "image/png": "[encoded data removed]",
            "text/plain": [
              "<Figure size 432x288 with 1 Axes>"
            ]
          },
          "metadata": {
            "tags": []
          }
        }
      ]
    },
    {
      "cell_type": "code",
      "metadata": {
        "id": "GUD_H9QmrNRl",
        "colab_type": "code",
        "colab": {}
      },
      "source": [
        "\n",
        "\n",
        "def g(x):\n",
        "\treturn math.pow(1-x,1/3.0)\n",
        "\t\n",
        "def fpi(x, k):\n",
        "\tfor i in range(k):\n",
        "\t\tprint i, x, g(x)\n",
        "\t\tx = g(x)\n",
        "\tprint 'The root is: ',\n",
        "\treturn x"
      ],
      "execution_count": 0,
      "outputs": []
    },
    {
      "cell_type": "code",
      "metadata": {
        "id": "UC51NVBR1kWe",
        "colab_type": "code",
        "colab": {}
      },
      "source": [
        "# 7 8(3), 9(2), 10(3)\n",
        "# TODO: usar o método de jacobi em cima disso?\n",
        "[5a, -15b\n",
        "-5a, 25b, -10c\n",
        " 0a, -10b, 15c, -5d, 0e\n",
        " 0a,0b, -5c, 20d, -15e, 0f\n",
        " 0a,-10b, 0c, -15d, 45e, -20f\n",
        " 0a,0b,0c, -20d, 20e\n",
        " \n",
        " 25a, -5b, -10c,\n",
        " \n",
        "]\n"
      ],
      "execution_count": 0,
      "outputs": []
    }
  ]
}